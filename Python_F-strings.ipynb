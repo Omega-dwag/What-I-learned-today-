{
 "cells": [
  {
   "cell_type": "markdown",
   "id": "d77b6308-2da4-4e81-ac55-8e4db976c5a0",
   "metadata": {},
   "source": [
    "# Python F- Strings"
   ]
  },
  {
   "cell_type": "markdown",
   "id": "c1500e10-6f9f-4733-a2c6-23165a7caabc",
   "metadata": {},
   "source": [
    "-------------------------------"
   ]
  },
  {
   "cell_type": "markdown",
   "id": "ebe52335-df86-492a-a299-a63fb3538bb9",
   "metadata": {},
   "source": [
    "### 1. Basic F-String Usage"
   ]
  },
  {
   "cell_type": "code",
   "execution_count": 6,
   "id": "049ccb74-1fea-4260-8f80-6687031d07cd",
   "metadata": {},
   "outputs": [
    {
     "name": "stdout",
     "output_type": "stream",
     "text": [
      "My name is Alice and I am 30 years old.\n"
     ]
    }
   ],
   "source": [
    "name = \"Alice\"\n",
    "age = 30\n",
    "print(f\"My name is {name} and I am {age} years old.\")  #This prints \"My name is Alice and I am 30 years old.\" \n",
    "#The {name} and {age} are replaced with their respective values."
   ]
  },
  {
   "cell_type": "markdown",
   "id": "906db028-8a41-46b2-b9e2-5f1b8d6b3ee9",
   "metadata": {},
   "source": [
    "---------------"
   ]
  },
  {
   "cell_type": "markdown",
   "id": "bfc5b556-9b6f-4187-9b08-ad3dbd34878d",
   "metadata": {},
   "source": [
    "### 2. Expressions in F-Strings"
   ]
  },
  {
   "cell_type": "code",
   "execution_count": 19,
   "id": "2502b7d8-af5c-4219-8f29-37e82bc04f72",
   "metadata": {},
   "outputs": [
    {
     "name": "stdout",
     "output_type": "stream",
     "text": [
      "The sum of 10 and 20 is 30\n",
      "Is 10 greater than 20? False\n"
     ]
    }
   ],
   "source": [
    "x = 10\n",
    "y = 20\n",
    "print(f\"The sum of {x} and {y} is {x + y}\") # calculates the sum of x and y\n",
    "print(f\"Is {x} greater than {y}? {x > y}\") # checks if x is greater than y."
   ]
  },
  {
   "cell_type": "markdown",
   "id": "bb56181d-82e4-4132-ab98-2e9d1caea49a",
   "metadata": {},
   "source": [
    "----------------"
   ]
  },
  {
   "cell_type": "markdown",
   "id": "f4b3e0c4-47c9-49f4-a36e-736da07a61a7",
   "metadata": {},
   "source": [
    "### 3. Formatting Specifiers\n",
    "Using formatting specifiers in f-strings allows you to:\n",
    "1. Control the appearance of numbers (decimal places, scientific notation).\n",
    "2. Align and space output for better readability.\n",
    "3. Enhance presentation in reports or terminal output."
   ]
  },
  {
   "cell_type": "code",
   "execution_count": 26,
   "id": "eb72fa4f-5f9b-4a98-9708-3050e8c8168f",
   "metadata": {
    "scrolled": true
   },
   "outputs": [
    {
     "name": "stdout",
     "output_type": "stream",
     "text": [
      "Pi to 2 decimal places: 3.14\n",
      "Pi in scientific notation: 3.14e+00\n",
      "Pi in scientific notation: 3.14159e+00\n"
     ]
    }
   ],
   "source": [
    "pi = 3.14159\n",
    "print(f\"Pi to 2 decimal places: {pi:.2f}\") #.2f means to show pi with two decimal places (float points)\n",
    "print(f\"Pi in scientific notation: {pi:.2e}\") # .2e displays it in scientific notation with 2 decimals\n",
    "print(f\"Pi in scientific notation: {pi:.5e}\") # .5e displays it in scientific notation with 5 decimals ( number is changable)"
   ]
  },
  {
   "cell_type": "markdown",
   "id": "d8de5b74-1e42-4fc7-a13a-e76010072523",
   "metadata": {},
   "source": [
    "###### Width and Alignment: \n",
    "This makes the output neatly aligned in columns."
   ]
  },
  {
   "cell_type": "code",
   "execution_count": 54,
   "id": "2b6d8e24-0975-4466-906e-3e260d5d9a75",
   "metadata": {},
   "outputs": [
    {
     "name": "stdout",
     "output_type": "stream",
     "text": [
      " 1   1    1\n",
      " 2   4    8\n",
      " 3   9   27\n",
      " 4  16   64\n",
      " 5  25  125\n",
      " 6  36  216\n",
      " 7  49  343\n",
      " 8  64  512\n",
      " 9  81  729\n",
      "10 100 1000\n"
     ]
    }
   ],
   "source": [
    "for i in range(1, 11):\n",
    "    print(f\"{i:2d} {i*i:3d} {i*i*i:4d}\") \n",
    "# :2d means the integer will take up at least 2 spaces. \n",
    "# :3d means the square should take at least 3 spaces. \n",
    "# :4d means the cube should take at least 4 spaces and so on..."
   ]
  },
  {
   "cell_type": "markdown",
   "id": "e35677ee-47b8-4faf-8cfd-a1d0095b580a",
   "metadata": {},
   "source": [
    "-----------------------"
   ]
  },
  {
   "cell_type": "markdown",
   "id": "55099e32-8afd-464d-b3df-fb9bd2ae9b57",
   "metadata": {},
   "source": [
    "### 4. Date Formatting"
   ]
  },
  {
   "cell_type": "code",
   "execution_count": 42,
   "id": "6b43a034-4a75-4542-8a56-b36c169a56ee",
   "metadata": {},
   "outputs": [
    {
     "name": "stdout",
     "output_type": "stream",
     "text": [
      "Current date and time: 2024-09-10 23:44:38\n"
     ]
    }
   ],
   "source": [
    "from datetime import datetime\n",
    "now = datetime.now()\n",
    "print(f\"Current date and time: {now:%Y-%m-%d %H:%M:%S}\")\n",
    "# The format \"%Y-%m-%d %H:%M:%S\" specifies how to display the date and time (year-month-day hour:minute:second)."
   ]
  },
  {
   "cell_type": "markdown",
   "id": "c347503a-b387-480f-bf2a-364d9e2893bf",
   "metadata": {},
   "source": [
    "------------------"
   ]
  },
  {
   "cell_type": "markdown",
   "id": "e7cd49cd-0404-403b-9fc6-5c1f1706b966",
   "metadata": {},
   "source": [
    "### 5. Nested F-Strings\n",
    " Nesting is helpful when you need to manipulate values before displaying them."
   ]
  },
  {
   "cell_type": "code",
   "execution_count": 51,
   "id": "547aca4a-3f8c-4310-8609-79f8cfc139d5",
   "metadata": {},
   "outputs": [
    {
     "name": "stdout",
     "output_type": "stream",
     "text": [
      "User 12345's name is BOB\n"
     ]
    }
   ],
   "source": [
    "def get_name(id):\n",
    "    return \"Bob\"\n",
    "    \n",
    "# get_name(user_id) retrieves the name based on user_id.\n",
    "\n",
    "user_id = 12345\n",
    "print(f\"User {user_id}'s name is {get_name(user_id).upper()}\") # .upper() method converts the name to uppercase before insertion in f string"
   ]
  },
  {
   "cell_type": "markdown",
   "id": "1f8009ea-fe82-4699-b6cd-fa0fe851ee09",
   "metadata": {},
   "source": [
    "----------------------"
   ]
  },
  {
   "cell_type": "markdown",
   "id": "88fc40d1-03a2-4947-8f1f-51c582b05b61",
   "metadata": {},
   "source": [
    "### 6. F-Strings with Dictionaries\n",
    "F-strings can access dictionary values directly."
   ]
  },
  {
   "cell_type": "code",
   "execution_count": 56,
   "id": "1afb76c0-0e32-4226-bc99-fda3b23bfd3c",
   "metadata": {},
   "outputs": [
    {
     "name": "stdout",
     "output_type": "stream",
     "text": [
      "Person: Charlie is 35 years old\n"
     ]
    }
   ],
   "source": [
    "person = {\"name\": \"Charlie\", \"age\": 35}\n",
    "print(f\"Person: {person['name']} is {person['age']} years old\")"
   ]
  },
  {
   "cell_type": "markdown",
   "id": "ab4a8b30-26c8-4a74-acb2-1409d4bf75a3",
   "metadata": {},
   "source": [
    "------------------"
   ]
  },
  {
   "cell_type": "markdown",
   "id": "4fd24787-f455-4eeb-818f-6e3237077d73",
   "metadata": {},
   "source": [
    "### 7. Debugging with F-Strings\n",
    "1. In the second example (i.e Expressions in F-String ), \n",
    "you simply access and display the values of variables without showing their names.\n",
    "2. Using Debugging with F-Strings\r\n",
    "With'  f-string 's and the'   '= syntax, you include both the variable name and its value."
   ]
  },
  {
   "cell_type": "code",
   "execution_count": 63,
   "id": "4f9334d4-739a-42f8-847a-6fd3db224010",
   "metadata": {},
   "outputs": [
    {
     "name": "stdout",
     "output_type": "stream",
     "text": [
      "x=10, y=20, x+y=30\n"
     ]
    }
   ],
   "source": [
    "x = 10\n",
    "y = 20\n",
    "print(f\"{x=}, {y=}, {x+y=}\")\n",
    "# Using f\"{x=}\" prints \"x=10\", which shows the variable name and its value."
   ]
  },
  {
   "cell_type": "markdown",
   "id": "0ade7682-5bfe-4be2-b909-043d5d746037",
   "metadata": {},
   "source": [
    "___________________"
   ]
  },
  {
   "cell_type": "markdown",
   "id": "b3b1ec83-573a-4350-b9e0-f88a1fda0886",
   "metadata": {},
   "source": [
    "### 8. Multiline F-Strings\n",
    "1. You can create multiline f-strings for more complex messages\n",
    "2. Great for structured messages that require more context or detail.\n",
    "3.  \"\"\" allows for a string that spans several lines, maintaining formatting."
   ]
  },
  {
   "cell_type": "code",
   "execution_count": 69,
   "id": "e7a5c843-0a66-45e2-9787-330bdfdae995",
   "metadata": {},
   "outputs": [
    {
     "name": "stdout",
     "output_type": "stream",
     "text": [
      "\n",
      "Name: David\n",
      "Age: 40\n",
      "About: David is a 40-year-old programmer\n",
      "       who loves Python.\n",
      "\n"
     ]
    }
   ],
   "source": [
    "name = \"David\"\n",
    "age = 40\n",
    "# the format of the string below will be maintained in output\n",
    "bio = f\"\"\"\n",
    "Name: {name}\n",
    "Age: {age}\n",
    "About: {name} is a {age}-year-old programmer\n",
    "       who loves Python.\n",
    "\"\"\"\n",
    "print(bio)"
   ]
  },
  {
   "cell_type": "markdown",
   "id": "0e81e917-754f-4337-a800-7dba8ccc7a52",
   "metadata": {},
   "source": [
    "- - - - - - - - - - - - - - - - - - - - - - - - - - - - - - - - - - - - - - - - - - - - - - - - - - - - - - "
   ]
  },
  {
   "cell_type": "markdown",
   "id": "e655a451-aaf1-4008-8969-a91f9ca11f88",
   "metadata": {},
   "source": [
    "### 9. Formatting with format() Method\n",
    "* By implementing this method, you can customize the output of your objects when using f-strings or the format() method, making your code cleaner and more understandable.\r\n"
   ]
  },
  {
   "cell_type": "code",
   "execution_count": 17,
   "id": "754b985b-bf14-439b-8fc7-ccc3f7ed5d20",
   "metadata": {},
   "outputs": [
    {
     "name": "stdout",
     "output_type": "stream",
     "text": [
      "Point coordinates: (3, 4)\n",
      "Point coordinates: (3 is x cordinate and 4is y coordinate)\n",
      "Point coordinates: X: 3, Y: 4\n"
     ]
    }
   ],
   "source": [
    "class Point:\n",
    "    def __init__(self, x, y):\n",
    "        self.x = x\n",
    "        self.y = y\n",
    "    \n",
    "    def __format__(self, format_spec):\n",
    "        if format_spec == 'p':\n",
    "            return f\"({self.x}, {self.y})\"\n",
    "        elif format_spec == 'q':\n",
    "            return f\"({self.x} is x cordinate and {self.y}is y coordinate)\"\n",
    "        return f\"X: {self.x}, Y: {self.y}\"\n",
    "\n",
    "point = Point(3, 4)\n",
    "print(f\"Point coordinates: {point:p}\")\n",
    "print(f\"Point coordinates: {point:q}\")\n",
    "print(f\"Point coordinates: {point}\")"
   ]
  },
  {
   "cell_type": "markdown",
   "id": "7e8dce37-4763-4a09-87bd-5ef4343b194e",
   "metadata": {},
   "source": [
    "-------------------"
   ]
  },
  {
   "cell_type": "markdown",
   "id": "f371c4fe-0224-41e6-ae7b-aec944f31d44",
   "metadata": {},
   "source": [
    "### 10. Using Format Codes"
   ]
  },
  {
   "cell_type": "code",
   "execution_count": 24,
   "id": "5a94c528-7a6e-47bf-b477-662d61e0a78f",
   "metadata": {},
   "outputs": [
    {
     "name": "stdout",
     "output_type": "stream",
     "text": [
      "Binary: 101010, Octal: 52, Hexadecimal: 2a\n",
      "Exponent notation: 1.234568e+03\n",
      "Fixed point: 1234.57\n",
      "       center       \n",
      "left                \n",
      "               right\n"
     ]
    }
   ],
   "source": [
    "# Integer\n",
    "print(f\"Binary: {42:b}, Octal: {42:o}, Hexadecimal: {42:x}\")#:b for binary, :o for octal, :x for hexadecimal\n",
    "\n",
    "# Floating-point\n",
    "print(f\"Exponent notation: {1234.5678:e}\") #  :e for scientific notation and \n",
    "print(f\"Fixed point: {1234.5678:.2f}\")  #:.2f for fixed-point with two decimals.\n",
    "\n",
    "# String\n",
    "print(f\"{'center':^20}\")  # Center align in 20 spaces (i.e. 10 spaces on each side )\n",
    "print(f\"{'left':<20}\")    # Left align in 20 spaces (i.e. 10 spaces on right side )\n",
    "print(f\"{'right':>20}\")   # Right align in 20 spaces (i.e. 10 spaces on left side )"
   ]
  },
  {
   "cell_type": "markdown",
   "id": "c382cee3-a3fe-435e-bf2e-1820d70ef98f",
   "metadata": {},
   "source": [
    "- - - - - - - - - - - - - - - - - - - - - - - - - - - - - - - - - - - - - - - - - - - - - - - - - - - - - - "
   ]
  },
  {
   "cell_type": "markdown",
   "id": "4a64659b-c2ba-497d-9d00-3d2703d70575",
   "metadata": {},
   "source": [
    "### 11. Dynamic Formatting\n",
    "* Dynamic formatting allows you to use variables to decide how to format values in your f-strings. This means you can change the formatting based on conditions or user input."
   ]
  },
  {
   "cell_type": "markdown",
   "id": "a1ffd0f7-a418-4a1e-97f7-34272336d6f3",
   "metadata": {},
   "source": [
    "#### 1. Using Variables for Width and Precision\n",
    "* You can specify the width and precision of a float dynamically using variables.e:"
   ]
  },
  {
   "cell_type": "code",
   "execution_count": 35,
   "id": "4e4e3400-4f41-43f9-b28d-91031f5f71b3",
   "metadata": {},
   "outputs": [
    {
     "name": "stdout",
     "output_type": "stream",
     "text": [
      "Dynamic format:    12.3457\n"
     ]
    }
   ],
   "source": [
    "#{value:{width}.{precision}f} uses the variables width and precision to control how to display value.\n",
    "\n",
    "width = 10\n",
    "precision = 4\n",
    "value = 12.3456789\n",
    "\n",
    "print(f\"Dynamic format: {value:{width}.{precision}f}\") #This formats value to a width of 10 characters and 4 decimal places."
   ]
  },
  {
   "cell_type": "markdown",
   "id": "7764d9dd-907c-4ac9-a427-e9a2683ec62a",
   "metadata": {},
   "source": [
    "#### 2. Changing Format Based on Conditions:\n",
    "* You can decide how to format a number based on its value"
   ]
  },
  {
   "cell_type": "code",
   "execution_count": 55,
   "id": "8be24c26-43e0-46a0-819b-c2b5d3ec8c8c",
   "metadata": {},
   "outputs": [
    {
     "name": "stdout",
     "output_type": "stream",
     "text": [
      "Formatted number: 12,345,687,987\n"
     ]
    }
   ],
   "source": [
    "number = 12345687987\n",
    "if number > 10000:\n",
    "    print(f\"Formatted number: {number:,}\")  # Adds commas\n",
    "else:\n",
    "    print(f\"Formatted number: {number}\")\n"
   ]
  },
  {
   "cell_type": "markdown",
   "id": "9b306a92-a305-4916-b130-6670722b1ea7",
   "metadata": {},
   "source": [
    "-------------"
   ]
  },
  {
   "cell_type": "markdown",
   "id": "a558fac3-b838-436f-a0eb-f594441f2b2b",
   "metadata": {},
   "source": [
    "### 12. Conditional Expressions in F-Strings\n",
    "* You can use conditions to change the output."
   ]
  },
  {
   "cell_type": "code",
   "execution_count": 59,
   "id": "4ae3e06b-0046-4e05-bd22-31e829620fed",
   "metadata": {},
   "outputs": [
    {
     "name": "stdout",
     "output_type": "stream",
     "text": [
      "x is even\n"
     ]
    }
   ],
   "source": [
    "x = 10\n",
    "print(f\"x is {'even' if x % 2 == 0 else 'odd'}\")"
   ]
  },
  {
   "cell_type": "markdown",
   "id": "00b90d25-cd83-4536-9797-5f7b4efcc6c9",
   "metadata": {},
   "source": [
    "----------------------"
   ]
  },
  {
   "cell_type": "markdown",
   "id": "d58a036f-e034-44fd-9093-ff7fca204839",
   "metadata": {},
   "source": [
    "### 13. Escape Characters: (\\n ,\\t ,etc)\n",
    "* You can include quotes or special characters by using escape sequences."
   ]
  },
  {
   "cell_type": "code",
   "execution_count": 66,
   "id": "46f0c104-cbd1-4cfb-836e-dffb5050afdc",
   "metadata": {},
   "outputs": [
    {
     "name": "stdout",
     "output_type": "stream",
     "text": [
      "He said, \"Python is fun!\"\n"
     ]
    }
   ],
   "source": [
    "quote = \"Python is fun!\"\n",
    "print(f\"He said, \\\"{quote}\\\"\")"
   ]
  },
  {
   "cell_type": "markdown",
   "id": "800a6c65-9993-491c-8078-fc741f139b75",
   "metadata": {},
   "source": [
    "- - - - - - - - - - - - - - - - - - - - - - - - - - - - - - - - - - - - - - - - - - - - - - - - - - - - - - "
   ]
  },
  {
   "cell_type": "markdown",
   "id": "dc4dba38-ec3a-41d9-8c05-91497da3255c",
   "metadata": {},
   "source": [
    "# END"
   ]
  },
  {
   "cell_type": "code",
   "execution_count": null,
   "id": "627cd88c-915f-485a-8a0b-2a85f1f2bd53",
   "metadata": {},
   "outputs": [],
   "source": []
  }
 ],
 "metadata": {
  "kernelspec": {
   "display_name": "Python 3 (ipykernel)",
   "language": "python",
   "name": "python3"
  },
  "language_info": {
   "codemirror_mode": {
    "name": "ipython",
    "version": 3
   },
   "file_extension": ".py",
   "mimetype": "text/x-python",
   "name": "python",
   "nbconvert_exporter": "python",
   "pygments_lexer": "ipython3",
   "version": "3.12.4"
  }
 },
 "nbformat": 4,
 "nbformat_minor": 5
}
