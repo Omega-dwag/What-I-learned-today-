{
 "cells": [
  {
   "cell_type": "markdown",
   "id": "b2be1764-57df-44ef-92c0-48ccffe47669",
   "metadata": {},
   "source": [
    "#  DateTime Module In Python\n",
    "* The datetime module in Python helps you work with dates and times. It provides tools to create, manipulate, and format date and time information.\n",
    "\n",
    "   "
   ]
  },
  {
   "cell_type": "markdown",
   "id": "93029fcb-ea62-40b9-abb1-e060c6e10e2e",
   "metadata": {},
   "source": [
    "-----\n",
    "## 1. Importing the Module\n",
    "* To use the tools in the datetime module, you first need to import it"
   ]
  },
  {
   "cell_type": "code",
   "execution_count": 2,
   "id": "ea61dd9a-cbc0-4a8c-bda1-1441d8791aa9",
   "metadata": {},
   "outputs": [],
   "source": [
    "from datetime import datetime,date,time,timedelta\n",
    "# datetime: This is used for working with both date and time.\n",
    "# date: This is used for working with just dates (year, month, day).\n",
    "# time: This is for working with just time (hours, minutes, seconds).\n",
    "# timedelta: This is used to represent a duration, or how much time to add or subtract"
   ]
  },
  {
   "cell_type": "markdown",
   "id": "723e2b63-6168-496f-8257-f0e40f4f3a79",
   "metadata": {},
   "source": [
    "#### Creating Datetime Objects\n",
    "1. Current Date and Time:\r",
    "* You  can get the current date and time using datetime.now(). This is useful when you want to know the exact moment right now.."
   ]
  },
  {
   "cell_type": "code",
   "execution_count": 5,
   "id": "807f1cf4-c84e-482b-bf90-b67be684ca1c",
   "metadata": {},
   "outputs": [
    {
     "name": "stdout",
     "output_type": "stream",
     "text": [
      "Current datetime: 2024-09-14 18:38:05.703736\n"
     ]
    }
   ],
   "source": [
    "now = datetime.now()\n",
    "print(f\"Current datetime: {now}\") # yyyy:mm:dd hh:mm:ss format is default"
   ]
  },
  {
   "cell_type": "markdown",
   "id": "58513d71-46a5-4550-88cd-e563dc5a6826",
   "metadata": {},
   "source": [
    "2. Creating a Specific Datetime:\n",
    "* You can create a specific date and time by providing the year, month, day, hour, minute, and second."
   ]
  },
  {
   "cell_type": "code",
   "execution_count": 8,
   "id": "f548fd24-c0e7-490d-b013-f933c6f68ce2",
   "metadata": {},
   "outputs": [
    {
     "name": "stdout",
     "output_type": "stream",
     "text": [
      "Specific datetime: 2028-11-16 17:30:56\n"
     ]
    }
   ],
   "source": [
    "specific_date = datetime(2028, 11, 16, 17, 30, 56) \n",
    "\n",
    "\"\"\" You can't add value exceeding its limit \n",
    "like in place of month you can add value exceeding number 12  or number exceeding 24 in hr place\n",
    "it gives error (I just tried XD) \"\"\"\n",
    "\n",
    "print(f\"Specific datetime: {specific_date}\")\n"
   ]
  },
  {
   "cell_type": "markdown",
   "id": "709ec455-39a3-464d-9dd1-c27811bf929d",
   "metadata": {},
   "source": [
    "3. Creating Date and Time Separately:\n",
    "* Sometimes, you might want just the date or just the time."
   ]
  },
  {
   "cell_type": "code",
   "execution_count": 11,
   "id": "0b2965bd-b1f7-4726-aec0-121d46d3bbef",
   "metadata": {},
   "outputs": [
    {
     "name": "stdout",
     "output_type": "stream",
     "text": [
      "Today's date: 2024-09-14\n"
     ]
    }
   ],
   "source": [
    "# creating Date Separately\n",
    "today = date.today()\n",
    "print(f\"Today's date: {today}\")"
   ]
  },
  {
   "cell_type": "code",
   "execution_count": 13,
   "id": "df99cbe9-55e4-4535-b732-2c9d7bcc9cca",
   "metadata": {},
   "outputs": [
    {
     "name": "stdout",
     "output_type": "stream",
     "text": [
      "Current time: 14:30:00\n"
     ]
    }
   ],
   "source": [
    "# Creating Time Separately\n",
    "current_time = time(14, 30, 0)\n",
    "print(f\"Current time: {current_time}\")"
   ]
  },
  {
   "cell_type": "markdown",
   "id": "64bda9e9-5bb8-4626-b95b-d7d01de079e6",
   "metadata": {},
   "source": [
    "---------\n",
    "## 2. Formatting and Parsing\n",
    "1. Formatting \n",
    "* Formatting means changing how a date or time looks when you print it. You can convert it to a string in a way that’s easy to read\n"
   ]
  },
  {
   "cell_type": "code",
   "execution_count": 15,
   "id": "710e7bfb-2344-4bbe-8de1-70dd665611a0",
   "metadata": {},
   "outputs": [
    {
     "name": "stdout",
     "output_type": "stream",
     "text": [
      "Formatted datetime: 14-Sep-2024 18:38:05\n"
     ]
    }
   ],
   "source": [
    "now = datetime.now()\n",
    "formatted = now.strftime(\"%d-%b-%Y %H:%M:%S\") #default is %Y-%m-%d for date\n",
    "# %Y: Four-digit year (e.g., 2023)\n",
    "# %m: Two-digit month (01 to 12)\n",
    "# %d: Two-digit day (01 to 31)\n",
    "# %H: Two-digit hour (00 to 23)\n",
    "# %M: Two-digit minutes (00 to 59)\n",
    "# %S: Two-digit seconds (00 to 59)\n",
    "# %B Name of the month (full form)\n",
    "# %b Name of the month (short form)\n",
    "# %Y and %y are diffrent as %y will only give year in 2 digit i.e. if its 2024 it'll just show 24 \n",
    "print(f\"Formatted datetime: {formatted}\")"
   ]
  },
  {
   "cell_type": "markdown",
   "id": "298fdc57-6dca-49c8-bc74-996d292d3468",
   "metadata": {},
   "source": [
    "2. Parsing\n",
    "* Parsing is the process of taking a string that looks like a date and turning it back into a datetime object."
   ]
  },
  {
   "cell_type": "code",
   "execution_count": 19,
   "id": "1ed2fcbd-0119-49b3-bfa6-2c84511d449f",
   "metadata": {},
   "outputs": [
    {
     "name": "stdout",
     "output_type": "stream",
     "text": [
      "Parsed datetime: 2023-09-11 14:30:00\n"
     ]
    }
   ],
   "source": [
    "date_string = \"2023/09/11 14:30:00\"\n",
    "parsed_date = datetime.strptime(date_string, \"%Y/%m/%d %H:%M:%S\") # To convert a string into a datetime object, you use the strptime() method\n",
    "print(f\"Parsed datetime: {parsed_date}\")"
   ]
  },
  {
   "cell_type": "markdown",
   "id": "59f7543f-52de-4e11-88e6-efdb6a94ddee",
   "metadata": {},
   "source": [
    "-------------\n",
    "## 3. Date Arithmetic\n",
    "* Date arithmetic is about adding or subtracting time from dates. This allows you to calculate future or past dates easily.\n",
    "#### Adding and Subtracting Time\n",
    "1. Adding Time:"
   ]
  },
  {
   "cell_type": "code",
   "execution_count": 22,
   "id": "c9a9b593-2e92-4795-830b-5b4e988c4391",
   "metadata": {},
   "outputs": [
    {
     "name": "stdout",
     "output_type": "stream",
     "text": [
      "One week from now: 2024-09-21 18:38:06.041022\n"
     ]
    }
   ],
   "source": [
    "# find out what the date will be one week from now. You can add 7 days using timedelta.\n",
    "from datetime import datetime, timedelta\n",
    "\n",
    "now = datetime.now()  # Get the current date and time\n",
    "future = now + timedelta(days=7)  # Add 7 days\n",
    "print(f\"One week from now: {future}\")"
   ]
  },
  {
   "cell_type": "markdown",
   "id": "167097f0-a075-4901-97af-0606f07d3739",
   "metadata": {},
   "source": [
    "2. Subtracting Time:"
   ]
  },
  {
   "cell_type": "code",
   "execution_count": 25,
   "id": "53f70284-a2b4-4508-bad2-9a96cd0a057e",
   "metadata": {},
   "outputs": [
    {
     "name": "stdout",
     "output_type": "stream",
     "text": [
      "19 hours ago: 2024-09-13 23:38:06.041022\n"
     ]
    }
   ],
   "source": [
    "past = now - timedelta(hours=19)  # Subtract 19 hours\n",
    "print(f\"19 hours ago: {past}\")"
   ]
  },
  {
   "cell_type": "markdown",
   "id": "96990236-1284-4986-9efc-67d2013dd515",
   "metadata": {},
   "source": [
    "#### Calculating Time Difference"
   ]
  },
  {
   "cell_type": "code",
   "execution_count": 28,
   "id": "559fd2f4-b1f3-4bc3-a40f-0e2f838be0f9",
   "metadata": {},
   "outputs": [
    {
     "name": "stdout",
     "output_type": "stream",
     "text": [
      "Days between dates: 60\n"
     ]
    }
   ],
   "source": [
    "date1 = datetime(2024, 8, 1)  # First date\n",
    "date2 = datetime(2024, 9, 30)  # Second date\n",
    "difference = date2 - date1  # Subtract the two dates\n",
    "print(f\"Days between dates: {difference.days}\")"
   ]
  },
  {
   "cell_type": "markdown",
   "id": "9336bdb0-4aa9-4456-b637-48870c5baef5",
   "metadata": {},
   "source": [
    "------------\n",
    "## 4. Working with Time Zones\n",
    "#### Using pytz for Time Zone Handling\n",
    "* To work with time zones, you can use the pytz library, which allows you to set and convert time zones easily.\n",
    "  1. Getting Current UTC Time (Coordinated Universal time ):"
   ]
  },
  {
   "cell_type": "code",
   "execution_count": 31,
   "id": "fbdabc87-1ecc-432d-abcd-bbc2a5a65610",
   "metadata": {},
   "outputs": [
    {
     "name": "stdout",
     "output_type": "stream",
     "text": [
      "UTC time: 2024-09-14 13:08:07.261707+00:00\n"
     ]
    }
   ],
   "source": [
    "from pytz import timezone\n",
    "\n",
    "# Create a UTC time object\n",
    "utc_time = datetime.now(timezone('UTC'))\n",
    "print(f\"UTC time: {utc_time}\")"
   ]
  },
  {
   "cell_type": "markdown",
   "id": "de7da1d9-518b-4736-96e2-041135dbaf82",
   "metadata": {},
   "source": [
    "      2. Converting to Another Time Zone:"
   ]
  },
  {
   "cell_type": "code",
   "execution_count": 34,
   "id": "925cd183-0777-4328-a9f3-17f2ceea69e9",
   "metadata": {},
   "outputs": [
    {
     "name": "stdout",
     "output_type": "stream",
     "text": [
      "New York time: 2024-09-14 09:08:07.261707-04:00\n"
     ]
    }
   ],
   "source": [
    "ny_time = utc_time.astimezone(timezone('America/New_York'))  # Convert to New York time\n",
    "print(f\"New York time: {ny_time}\")\n"
   ]
  },
  {
   "cell_type": "code",
   "execution_count": 35,
   "id": "154f260a-a663-4117-8531-dbbee65e08e3",
   "metadata": {},
   "outputs": [
    {
     "name": "stdout",
     "output_type": "stream",
     "text": [
      "Japan time : 2024-09-14 22:08:07.261707+09:00\n"
     ]
    }
   ],
   "source": [
    "jp_time = utc_time.astimezone(timezone('Asia/Tokyo'))\n",
    "print(f\"Japan time : {jp_time}\")"
   ]
  },
  {
   "cell_type": "markdown",
   "id": "24592d70-68dd-4afa-821a-41d1c9aa2678",
   "metadata": {},
   "source": [
    "----------\n",
    "## 5. Advanced Date Operations\n",
    "1. Getting the Last Day of the Month"
   ]
  },
  {
   "cell_type": "code",
   "execution_count": 37,
   "id": "0480fe4a-cfad-4a73-973a-cb11dd7efc4c",
   "metadata": {},
   "outputs": [
    {
     "name": "stdout",
     "output_type": "stream",
     "text": [
      "2024-12-31\n"
     ]
    }
   ],
   "source": [
    "import calendar\n",
    "from datetime import date, timedelta\n",
    "\n",
    "def last_day_of_month(any_day):\n",
    "    next_month = any_day.replace(day=28) + timedelta(days=4) # Replace the day with 28 and add 4 days to go to the next month\n",
    "    return next_month - timedelta(days=next_month.day) # Subtract the number of days in the next month to get the last day of the current month\n",
    "datee=date(2024, 12, 6)\n",
    "print(last_day_of_month(datee))  # Last day of December 2024"
   ]
  },
  {
   "cell_type": "markdown",
   "id": "77741421-ee34-4c17-968b-89606669b4a0",
   "metadata": {},
   "source": [
    "  2. Creating a Range of Dates"
   ]
  },
  {
   "cell_type": "code",
   "execution_count": 42,
   "id": "0afa74ec-6dba-4a1e-b711-e23be6a649e0",
   "metadata": {},
   "outputs": [
    {
     "name": "stdout",
     "output_type": "stream",
     "text": [
      "2024-09-01\n",
      "2024-09-02\n",
      "2024-09-03\n",
      "2024-09-04\n",
      "2024-09-05\n",
      "2024-09-06\n",
      "2024-09-07\n"
     ]
    }
   ],
   "source": [
    "def date_range(start_date, end_date):\n",
    "    # Loop through the range of dates\n",
    "    for n in range((end_date - start_date).days):\n",
    "        \"\"\".days attribute of the timedelta object gives you \n",
    "        the total number of days in that difference. \n",
    "        For example, if start_date is September 1 and end_date is September 5,\n",
    "        the difference is 4 days \"\"\"\n",
    "        #In the Given example int((end_date - start_date).days will give value 7\n",
    "        #hence the loop will run in range (0,7)\n",
    "\n",
    "        print(start_date + timedelta(n))\n",
    "             \n",
    "\n",
    "start = date(2024, 9, 1)  # Start date\n",
    "end = date(2024, 9, 8)    # End date\n",
    "date_range(start, end)"
   ]
  },
  {
   "cell_type": "markdown",
   "id": "f598edb5-c76c-44ef-bd50-c17263a90855",
   "metadata": {},
   "source": [
    "--------------\n",
    "## 6. Working with ISO Calendar\n",
    "* The ISO calendar is a standardized way of representing dates. It includes the year, week number, and the day of the week. This is useful for organizing and comparing dates."
   ]
  },
  {
   "cell_type": "code",
   "execution_count": 71,
   "id": "2a1b1fb9-167e-40a6-a8bf-81df09a5a0ff",
   "metadata": {},
   "outputs": [
    {
     "name": "stdout",
     "output_type": "stream",
     "text": [
      "\n",
      "ISO Year: 2024,\n",
      "Week    : 37, \n",
      "Weekday : 6\n",
      "\n"
     ]
    }
   ],
   "source": [
    "from datetime import date\n",
    "\n",
    "today = date.today()  # Get today's date\n",
    "iso_calendar = today.isocalendar()  # Get ISO calendar info\n",
    "print(f\"\"\"\n",
    "ISO Year: {iso_calendar[0]},\n",
    "Week    : {iso_calendar[1]}, \n",
    "Weekday : {iso_calendar[2]}\n",
    "\"\"\")\n",
    "# the zero in indexing operator i.e. iso_calendar[0] represent year \n",
    "# 1 represents weeks passed till the date in that year\n",
    "# 2 represents which day it is that week "
   ]
  },
  {
   "cell_type": "markdown",
   "id": "2afdaf17-1fd2-4231-8fc5-24caa7d428ef",
   "metadata": {},
   "source": [
    "-------------------------\n",
    "## 7. Using dateutil for Advanced Operations\n",
    "* The dateutil library helps you do more with dates than the basic datetime module. It makes it easier to add or subtract different time periods."
   ]
  },
  {
   "cell_type": "code",
   "execution_count": 59,
   "id": "785e7dbd-72b0-489b-86fa-9b1a6dc3ce45",
   "metadata": {},
   "outputs": [
    {
     "name": "stdout",
     "output_type": "stream",
     "text": [
      "Three months from now: 2024-12-14 18:43:04.066690\n",
      "Next Tuesday: 2024-09-17 18:43:04.066690\n"
     ]
    }
   ],
   "source": [
    "from dateutil.relativedelta import relativedelta \n",
    "# relativedelta helps you add months or find the next specific day of the week\n",
    "# without worrying about how many days are in each month.\n",
    "\n",
    "now = datetime.now()\n",
    "\n",
    "# Add three months to today’s date\n",
    "three_months_later = now + relativedelta(months=3)\n",
    "print(f\"Three months from now: {three_months_later}\")\n",
    "\n",
    "# Find the next Tuesday\n",
    "next_tuesday = now + relativedelta(weekday=1)  # here 1 means Tuesday \n",
    "print(f\"Next Tuesday: {next_tuesday}\")\n",
    "\n",
    "# We can do the subtraction as well :)"
   ]
  },
  {
   "cell_type": "markdown",
   "id": "06b96e7c-9425-45b5-922b-26470dc6f383",
   "metadata": {},
   "source": [
    "------------------\n",
    "## 8. Working with Fiscal Years\n",
    "* Fiscal years are different from regular years. They are used by companies for accounting and might start in a different month."
   ]
  },
  {
   "cell_type": "code",
   "execution_count": 84,
   "id": "0a34bde2-28b1-41c3-8536-839de74e82ff",
   "metadata": {},
   "outputs": [
    {
     "name": "stdout",
     "output_type": "stream",
     "text": [
      "1. Current fiscal year : 2024\n",
      "2. Current fiscal year : 2025\n"
     ]
    }
   ],
   "source": [
    "def get_fiscal_year(date, start_month=11):\n",
    "    if date.month < start_month:\n",
    "        return date.year  # If before October, it's this year\n",
    "    else:\n",
    "        return date.year + 1  # If October or later, it's next year\n",
    "#1\n",
    "today = date(2024, 8, 12)\n",
    "fiscal_year = get_fiscal_year(today)\n",
    "print(f\"1. Current fiscal year : {fiscal_year}\")\n",
    "\n",
    "#2\n",
    "today = date(2024, 11, 12)\n",
    "fiscal_year = get_fiscal_year(today)\n",
    "print(f\"2. Current fiscal year : {fiscal_year}\")"
   ]
  },
  {
   "cell_type": "code",
   "execution_count": null,
   "id": "82c18d2c-7ca4-4455-b84a-9032e7827013",
   "metadata": {},
   "outputs": [],
   "source": []
  }
 ],
 "metadata": {
  "kernelspec": {
   "display_name": "Python 3 (ipykernel)",
   "language": "python",
   "name": "python3"
  },
  "language_info": {
   "codemirror_mode": {
    "name": "ipython",
    "version": 3
   },
   "file_extension": ".py",
   "mimetype": "text/x-python",
   "name": "python",
   "nbconvert_exporter": "python",
   "pygments_lexer": "ipython3",
   "version": "3.12.4"
  }
 },
 "nbformat": 4,
 "nbformat_minor": 5
}
