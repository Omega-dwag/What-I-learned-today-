{
 "cells": [
  {
   "cell_type": "markdown",
   "id": "9172da63-cd94-4de6-bf4d-8fc10432c12b",
   "metadata": {},
   "source": [
    "## 1. \\_\\_init__(self, value)\n",
    "* This is the constructor method that initializes a new object of the class. When you create an object or a instance of the class, this method is called automatically withouth seperately calling out for it\n",
    "* It’s mostly used to set up initial values for the object's attributes/variables.\n",
    "* You can pass parameters to this method when creating an instance"
   ]
  },
  {
   "cell_type": "code",
   "execution_count": 6,
   "id": "03a486dd-5a3a-4652-936f-8cdd1a31d322",
   "metadata": {},
   "outputs": [
    {
     "name": "stdout",
     "output_type": "stream",
     "text": [
      "10\n"
     ]
    }
   ],
   "source": [
    "class MagicExample: # Dunder methos are also known as magic methos in python\n",
    "    def __init__(self, value): \n",
    "        # self is just a way for the object to refer to itself, allowing methods to access its data.\n",
    "        #(lets suppose you dont use self anywhere..what happens there is ,\n",
    "        # when you create another method(function) in that class, \n",
    "        # the variables declared in that method will be treated as local variables limited to that  \n",
    "        # specific method and won't be of any use for another method in the same class )\n",
    "        # By using self we store local variables of the function for that object itself \n",
    "        # and other methods of the class can have access to them\n",
    "        self.value = value  # Setting the initial value\n",
    "\n",
    "# Creating an instance with value 10\n",
    "obj = MagicExample(10)\n",
    "print(obj.value)  "
   ]
  },
  {
   "cell_type": "markdown",
   "id": "ea69814e-b79e-4628-be50-41ee851c6608",
   "metadata": {},
   "source": [
    "---------------------------\n",
    "## 2. \\_\\_str__(self)\n",
    "* This method defines a human-readable string representation of the object. It’s what you see when you call print() on the object.\n",
    "* it basically returns a string of your choice.. when we print the object of a class .  and that string in most cases is used to describe what that object is for.... so 'it is method that defines human-readable string representation of the object '\n",
    "* This method is called when you use str(obj) or print(obj)."
   ]
  },
  {
   "cell_type": "code",
   "execution_count": 12,
   "id": "f944405e-d6d9-43e6-b63b-c9fa3489365d",
   "metadata": {},
   "outputs": [
    {
     "name": "stdout",
     "output_type": "stream",
     "text": [
      "MagicExample with value: 10\n"
     ]
    }
   ],
   "source": [
    "class MagicExample:\n",
    "    def __init__(self, value):\n",
    "        self.value = value\n",
    "    \n",
    "    def __str__(self):\n",
    "        return f\"MagicExample with value: {self.value}\"\n",
    "\n",
    "obj = MagicExample(10)\n",
    "print(obj) "
   ]
  },
  {
   "cell_type": "markdown",
   "id": "31608bc9-d929-4ebf-8514-360f2540484a",
   "metadata": {},
   "source": [
    "------------------------\n",
    "## 3. \\_\\_repr__(self)\n",
    "* This method provides a detailed string representation of the object, useful for debugging\n",
    "* It's called when you use repr(obj).\n",
    "* The string it returns should ideally be something that can recreate the object."
   ]
  },
  {
   "cell_type": "code",
   "execution_count": 15,
   "id": "c2dc4105-a1b3-40cd-9847-13273f963eae",
   "metadata": {},
   "outputs": [
    {
     "name": "stdout",
     "output_type": "stream",
     "text": [
      "MagicExample(10)\n",
      "10\n"
     ]
    }
   ],
   "source": [
    "class MagicExample:\n",
    "    def __init__(self, value):\n",
    "        self.value = value\n",
    "   \n",
    "    def __repr__(self):\n",
    "        return f\"MagicExample({self.value})\"  # String that can recreate the object\n",
    "\n",
    "obj = MagicExample(10)\n",
    "print(repr(obj)) \n",
    "\n",
    "# Recreating the object\n",
    "new_obj = eval(repr(obj))  \n",
    "\n",
    "# Using eval to recreate the object\n",
    "# In the __repr__ method, we return a string that looks like MagicExample(10).\n",
    "# If you use the eval() function on this string, \n",
    "# Python interprets it as if you typed it directly in the code, \n",
    "# effectively creating a new object of MagicExample with the same value.\n",
    "\n",
    "print(new_obj.value)  "
   ]
  },
  {
   "cell_type": "markdown",
   "id": "7bc64b0f-bf8d-44df-bbc9-951579fcd8f5",
   "metadata": {},
   "source": [
    "## 4. \\_\\_len__(self) \n",
    "* This method lets you use the len() function on your object to get a meaningful size.\n",
    "* __len__ allows your custom objects to work with the len() function.\n",
    "* \n",
    "It should return an integer that represents the length of something meaningful in the object."
   ]
  },
  {
   "cell_type": "code",
   "execution_count": 34,
   "id": "436b9f3e-a67b-4fe7-a5bf-043919596ec3",
   "metadata": {},
   "outputs": [
    {
     "name": "stdout",
     "output_type": "stream",
     "text": [
      "4\n"
     ]
    }
   ],
   "source": [
    " class MagicExample:\n",
    "    def __init__(self, value):\n",
    "        self.value = str(value) \n",
    "    \n",
    "    def __len__(self):\n",
    "        return len(str(self.value)) # Return the length of the string\n",
    "obj = MagicExample('ssdg')\n",
    "print(len(obj))"
   ]
  },
  {
   "cell_type": "markdown",
   "id": "a13ddfae-c133-42dc-97a7-2e02273d10fe",
   "metadata": {},
   "source": [
    "* more examples :"
   ]
  },
  {
   "cell_type": "code",
   "execution_count": 62,
   "id": "3a992987-5d42-42a4-96e3-4cf926686f81",
   "metadata": {},
   "outputs": [
    {
     "name": "stdout",
     "output_type": "stream",
     "text": [
      "Example1 o/p : 2\n",
      "\n",
      " \n",
      "Example2 o/p 1 : 4 , [1, 2, 3, 4]\n",
      "Example2 o/p 2 : 3 , [1, 2, 3]\n"
     ]
    }
   ],
   "source": [
    "# Example 1\n",
    "\n",
    "class ItemCollection:\n",
    "    def __init__(self):\n",
    "        self.items = []\n",
    "\n",
    "    def add_item(self, item):\n",
    "        self.items.append(item)\n",
    "\n",
    "    def __len__(self):\n",
    "        return len(self.items)  # Return the number of items\n",
    "\n",
    "collection = ItemCollection()\n",
    "collection.add_item(\"apple\")\n",
    "collection.add_item(\"banana\")\n",
    "print(f\"Example1 o/p : {len(collection)}\") \n",
    "\n",
    "# Example 2\n",
    "\n",
    "class Stack:\n",
    "    def __init__(self):\n",
    "        self.items = []\n",
    "\n",
    "    def push(self, item):\n",
    "        self.items.append(item)\n",
    "\n",
    "    def pop(self):\n",
    "        return self.items.pop() if self.items else None\n",
    "\n",
    "    def __len__(self):\n",
    "        return len(self.items)  # Number of items in the stack\n",
    "\n",
    "stack = Stack()\n",
    "stack.push(1)\n",
    "stack.push(2)\n",
    "stack.push(3)\n",
    "stack.push(4)\n",
    "print(f\"\\n \\nExample2 o/p 1 : {len(stack)} , {stack.items}\") \n",
    "stack.pop()\n",
    "print(f\"Example2 o/p 2 : {len(stack)} , {stack.items}\") \n",
    "# hell with it... for now i don't know why this is even important but \n",
    "# who knows it might as well come in handy later on so imma just learn it for now\n"
   ]
  },
  {
   "cell_type": "markdown",
   "id": "1a361a2f-fc1b-4b2c-9fe9-a07d5ec36b6a",
   "metadata": {},
   "source": [
    "----------\n",
    "## 5.  \\_\\_getitem__ (self, key)\n",
    "* This method allows you to access items in the object using square brackets, like a list or dictionary\n",
    "* its use will be more clear in the next point \\_\\_setitem__() "
   ]
  },
  {
   "cell_type": "code",
   "execution_count": 92,
   "id": "00161def-b315-40d5-b88e-fe6e98a160e9",
   "metadata": {},
   "outputs": [
    {
     "name": "stdout",
     "output_type": "stream",
     "text": [
      "3\n"
     ]
    }
   ],
   "source": [
    "class MagicExample:\n",
    "    def __init__(self, value):\n",
    "        self.value = [1, 2, 3, 4, 5]  # A list\n",
    "    \n",
    "    def __getitem__(self, key):\n",
    "        return self.value[key]\n",
    "\n",
    "obj = MagicExample([1, 2, 3, 4, 5])\n",
    "print(obj[2]) "
   ]
  },
  {
   "cell_type": "markdown",
   "id": "fd39601d-782b-4533-b6e3-edcdf2dd4dc0",
   "metadata": {},
   "source": [
    "------------------------\n",
    "## 6. \\_\\_setitem__(self, key, value)\n",
    "* The \\_\\_setitem__() method in Python allows you to define how items in your custom object can be set or modified using indexing. This method enables the use of square brackets (obj[key] = value) to assign a value to a specific key or index, similar to how you would with lists or dictionaries\n"
   ]
  },
  {
   "cell_type": "code",
   "execution_count": 83,
   "id": "7482d9b1-1e2d-4b2a-92f6-8c90762b482f",
   "metadata": {},
   "outputs": [
    {
     "name": "stdout",
     "output_type": "stream",
     "text": [
      "apple\n",
      "banana\n",
      "cherry\n",
      "['apple', 'banana', 'cherry']\n"
     ]
    }
   ],
   "source": [
    "class SimpleList:\n",
    "    def __init__(self):\n",
    "        self.items = []  # Initialize an empty list\n",
    "\n",
    "    def __setitem__(self, index, value):\n",
    "        # Ensure the index is valid (not negative)\n",
    "        if index < 0:\n",
    "            raise IndexError(\"Index cannot be negative.\")\n",
    "        # Set the value at the specified index\n",
    "        if index < len(self.items):\n",
    "            self.items[index] = value  # Update existing index\n",
    "        else:\n",
    "            self.items.append(value)  # Append new value if index is greater\n",
    "\n",
    "    def __getitem__(self, index):\n",
    "        return self.items[index]  # Get the value at the specified index\n",
    "\n",
    "# Using SimpleList\n",
    "my_list = SimpleList()\n",
    "my_list[0] = \"apple\"  # Uses __setitem__\n",
    "my_list[1] = \"banana\"  # Appends since index 1 is not yet filled\n",
    "\n",
    "print(my_list[0])  \n",
    "print(my_list[1]) \n",
    "\n",
    "# Setting a new item at index 2\n",
    "my_list[2] = \"cherry\"  # Appends to the list\n",
    "print(my_list[2])  \n",
    "print(my_list.items)  \n",
    "\n",
    "# well i also thought why should i use this when i can directly use list in the program...\n",
    "# the reason is here we can customize how list behaves of our own accord\n",
    "# NOTE -> You can do the same with Dictionaries\n"
   ]
  },
  {
   "cell_type": "markdown",
   "id": "27daf5eb-86c2-4222-a500-0831156f8210",
   "metadata": {},
   "source": [
    "##### how to customize list ? \n",
    "- here is a example :"
   ]
  },
  {
   "cell_type": "code",
   "execution_count": 86,
   "id": "4f0ed9c9-cdde-47bd-927f-b8848d1a64f6",
   "metadata": {},
   "outputs": [
    {
     "name": "stdout",
     "output_type": "stream",
     "text": [
      "[9, 16]\n",
      "Only integers are allowed.\n",
      "25\n",
      "[9, 16, 25]\n"
     ]
    }
   ],
   "source": [
    "class CustomList:\n",
    "    def __init__(self):\n",
    "        self.items = []  # Initialize an empty list\n",
    "\n",
    "    def __setitem__(self, index, value):\n",
    "        # Check if the value is an integer\n",
    "        if not isinstance(value, int): # checking if value is integer or not ,\n",
    "                                       # if yes it returns True, returns False otherwise\n",
    "            raise ValueError(\"Only integers are allowed.\")\n",
    "        \n",
    "        # Square the value before storing it\n",
    "        value = value ** 2\n",
    "        \n",
    "        # Ensure the index is valid (not negative)\n",
    "        if index < 0:\n",
    "            raise IndexError(\"Index cannot be negative.\")\n",
    "        \n",
    "        # Set the value at the specified index\n",
    "        if index < len(self.items):\n",
    "            self.items[index] = value  # Update existing index\n",
    "        else:\n",
    "            self.items.append(value)  # Append if index is greater\n",
    "\n",
    "    def __getitem__(self, index):\n",
    "        return self.items[index]  # Get the value at the specified index\n",
    "\n",
    "    def __repr__(self):\n",
    "        return repr(self.items)  # Display the list when printed\n",
    "\n",
    "\n",
    "# THE LIST WE HAVE CREATED ONLY ACCEPTS INTEGER AS ITEMS AND SQUARES THEM UP BEFORE APPENDING THEM TO THE LIST\n",
    "# So this is a basic idea of using __setitem__() to customize the list\n",
    "\n",
    "# Using Custom List\n",
    "\n",
    "my_list = CustomList()\n",
    "my_list[0] = 3      # Stores 3^2 = 9\n",
    "my_list[1] = 4       # Stores 4^2 = 16\n",
    "print(my_list)       # my_list = [9, 16]\n",
    "\n",
    "# Attempting to set a non-integer value\n",
    "try:\n",
    "    my_list[2] = \"five\"  # This will raise a ValueError\n",
    "except ValueError as e:\n",
    "    print(e) \n",
    "\n",
    "# Setting a value at a new index\n",
    "my_list[2] = 5       # Stores 5^2 = 25\n",
    "print(my_list[2])\n",
    "print(my_list)"
   ]
  },
  {
   "cell_type": "code",
   "execution_count": null,
   "id": "f70c1271-22a8-4c79-a4c9-6465fc453f47",
   "metadata": {},
   "outputs": [],
   "source": []
  }
 ],
 "metadata": {
  "kernelspec": {
   "display_name": "Python 3 (ipykernel)",
   "language": "python",
   "name": "python3"
  },
  "language_info": {
   "codemirror_mode": {
    "name": "ipython",
    "version": 3
   },
   "file_extension": ".py",
   "mimetype": "text/x-python",
   "name": "python",
   "nbconvert_exporter": "python",
   "pygments_lexer": "ipython3",
   "version": "3.12.4"
  }
 },
 "nbformat": 4,
 "nbformat_minor": 5
}
