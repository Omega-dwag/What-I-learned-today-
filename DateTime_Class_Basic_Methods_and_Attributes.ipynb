{
 "cells": [
  {
   "cell_type": "code",
   "execution_count": 106,
   "id": "9e488e72-2b2f-4ac1-af39-72e25bceaf31",
   "metadata": {},
   "outputs": [],
   "source": [
    "from datetime import date,time,datetime,timedelta"
   ]
  },
  {
   "cell_type": "markdown",
   "id": "7a10a575-a8e8-45e3-8270-abdc2ec4f9b9",
   "metadata": {},
   "source": [
    "## 1. Date Class"
   ]
  },
  {
   "cell_type": "code",
   "execution_count": 109,
   "id": "64aff1a1-bc41-43c5-b400-89e77ebe6f81",
   "metadata": {},
   "outputs": [],
   "source": [
    "\n",
    "\n",
    "# Creating a date object for September 11, 2024\n",
    "my_date = date(2024, 9, 11)"
   ]
  },
  {
   "cell_type": "markdown",
   "id": "08c8aa73-a9e1-4aec-b9f7-2f267eb9f0e4",
   "metadata": {},
   "source": [
    "#### Attributes\n",
    "1. Year\n",
    "    * This attribute gives you the year of the date."
   ]
  },
  {
   "cell_type": "code",
   "execution_count": 112,
   "id": "d166bd99-bc4b-4dd1-923d-a1db4c6a06e5",
   "metadata": {},
   "outputs": [
    {
     "name": "stdout",
     "output_type": "stream",
     "text": [
      "2024\n"
     ]
    }
   ],
   "source": [
    "print(my_date.year)  "
   ]
  },
  {
   "cell_type": "markdown",
   "id": "38de5b5a-9012-44db-9a9e-32e6e4473c91",
   "metadata": {},
   "source": [
    "2. Month  \n",
    "    * This attribute gives you the month of the date."
   ]
  },
  {
   "cell_type": "code",
   "execution_count": 115,
   "id": "e86fedf0-26fd-4557-bb9b-661c3ed7862f",
   "metadata": {},
   "outputs": [
    {
     "name": "stdout",
     "output_type": "stream",
     "text": [
      "9\n"
     ]
    }
   ],
   "source": [
    "print(my_date.month) "
   ]
  },
  {
   "cell_type": "markdown",
   "id": "b764072b-cb22-40c4-8d2a-7e6bfcfc83a7",
   "metadata": {},
   "source": [
    "3. Day\n",
    "      * This attribute gives you the day of the date."
   ]
  },
  {
   "cell_type": "code",
   "execution_count": 118,
   "id": "a91fcb65-b3fc-459f-ba93-613ad7792daa",
   "metadata": {},
   "outputs": [
    {
     "name": "stdout",
     "output_type": "stream",
     "text": [
      "11\n"
     ]
    }
   ],
   "source": [
    "print(my_date.day)"
   ]
  },
  {
   "cell_type": "markdown",
   "id": "f5f45a2d-380c-414f-9cb6-09376706a78e",
   "metadata": {},
   "source": [
    "#### Methods\n",
    "1. today()\n",
    "    * This method returns the current local date.\n"
   ]
  },
  {
   "cell_type": "code",
   "execution_count": 121,
   "id": "e15d46e6-d6f5-4e1f-a038-fe46df6f77dc",
   "metadata": {},
   "outputs": [
    {
     "name": "stdout",
     "output_type": "stream",
     "text": [
      "2024-09-13\n"
     ]
    }
   ],
   "source": [
    "today_date = date.today()\n",
    "print(today_date) "
   ]
  },
  {
   "cell_type": "markdown",
   "id": "f92ef5f1-8006-419c-840f-82daa7b473d6",
   "metadata": {},
   "source": [
    "2. fromtimestamp(timestamp):\n",
    "    * Creates a date object from a POSIX timestamp (seconds since January 1, 1970)."
   ]
  },
  {
   "cell_type": "code",
   "execution_count": 124,
   "id": "65a49097-33a3-42da-9bd2-e7ecefb68c2c",
   "metadata": {},
   "outputs": [
    {
     "name": "stdout",
     "output_type": "stream",
     "text": [
      "2024-09-13\n"
     ]
    }
   ],
   "source": [
    "import time\n",
    "timestamp_date = date.fromtimestamp(time.time())\n",
    "print(timestamp_date)  "
   ]
  },
  {
   "cell_type": "markdown",
   "id": "a17b76eb-f0b7-4dc5-bdac-66b81f8b7956",
   "metadata": {},
   "source": [
    "3. fromisoformat(date_string)\n",
    "    * Creates a   'date object'   from   a 'string'   in the ISO format (YYYY-MM-DD)"
   ]
  },
  {
   "cell_type": "code",
   "execution_count": 127,
   "id": "846f3bcb-1a67-4d6a-a19f-92576f1b1888",
   "metadata": {},
   "outputs": [
    {
     "name": "stdout",
     "output_type": "stream",
     "text": [
      "2023-09-11\n"
     ]
    }
   ],
   "source": [
    "iso_date = date.fromisoformat(\"2023-09-11\")\n",
    "print(iso_date)  "
   ]
  },
  {
   "cell_type": "markdown",
   "id": "1b9ea6ac-582b-4aa5-aaa2-692e361db4db",
   "metadata": {},
   "source": [
    "4. toordinal():\n",
    "    * Converts the date to a proleptic Gregorian ordinal, which is the number of days passed since January 1, 1 ( i.e. from the first day when  Gregorian  calender was created )."
   ]
  },
  {
   "cell_type": "code",
   "execution_count": 130,
   "id": "cb9f9ad1-a43c-4cd4-97df-d7b8c6e6f4f6",
   "metadata": {},
   "outputs": [
    {
     "name": "stdout",
     "output_type": "stream",
     "text": [
      "739140\n"
     ]
    }
   ],
   "source": [
    "ordinal = my_date.toordinal()\n",
    "print(ordinal) "
   ]
  },
  {
   "cell_type": "markdown",
   "id": "ded4f2a3-78eb-4877-85b9-fe8813825479",
   "metadata": {},
   "source": [
    "5. replace(year, month, day)\n",
    "    * Returns a new date object with the specified year, month, and day, replacing the values of the current date."
   ]
  },
  {
   "cell_type": "code",
   "execution_count": 133,
   "id": "45099740-347b-464e-9f83-3645352140ca",
   "metadata": {},
   "outputs": [
    {
     "name": "stdout",
     "output_type": "stream",
     "text": [
      "2026-10-11\n"
     ]
    }
   ],
   "source": [
    "new_date = my_date.replace(year=2026 ,month=10)\n",
    "print(new_date) "
   ]
  },
  {
   "cell_type": "markdown",
   "id": "4bbcd8c7-ab54-4235-92b9-ce8f3a0d6072",
   "metadata": {},
   "source": [
    "6. strftime(format)\n",
    "    * Formats the date as a string according to a specified format"
   ]
  },
  {
   "cell_type": "code",
   "execution_count": 136,
   "id": "6ce98337-ef0f-4b2f-a5bd-66aae151a455",
   "metadata": {},
   "outputs": [
    {
     "name": "stdout",
     "output_type": "stream",
     "text": [
      "September 11, 2024\n"
     ]
    }
   ],
   "source": [
    "my_date2 = my_date.strftime(\"%B %d, %Y\") # format can be whatever you want (it can just be month alone or date alone any repeated multiple times)\n",
    "\n",
    "\"\"\"\n",
    "%Y: Four-digit year (e.g. 2023)\n",
    "%y: Two-Digit year (e.g. 2024 -> 24)\n",
    "%m: Two-digit month (01 to 12)\n",
    "%d: Two-digit day (01 to 31)\n",
    "%H: Two-digit hour (00 to 23)\n",
    "%M: Two-digit minutes (00 to 59)\n",
    "%S: Two-digit seconds (00 to 59)\n",
    "%B Name of the month (full form)\n",
    "%b Name of the month (short form)\n",
    "%D date in ( mm/dd/yy ) format\n",
    "\"\"\"\n",
    "\n",
    "print(my_date2)  "
   ]
  },
  {
   "cell_type": "markdown",
   "id": "9021c12c-9a83-493c-bee8-166b49a96fe8",
   "metadata": {},
   "source": [
    "-----------------\n",
    "## 2. Time Class\n",
    "#### Attributes\n",
    "1. hour ( works same as year in date calss buit it gives hour of our time (0 to 23 ))\n",
    "2. minute (works same as month in date calss buit it gives minute part of our time (0 to 59))\n",
    "3. seconds (works same as day in date calss buit it gives seconds of our time (0 to 59))\n",
    "4. microsecond (Represents the microsecond of the time (0 to 999999))"
   ]
  },
  {
   "cell_type": "code",
   "execution_count": 139,
   "id": "ed6a2d6e-6751-4a3f-9426-295d2f3a291e",
   "metadata": {},
   "outputs": [
    {
     "name": "stdout",
     "output_type": "stream",
     "text": [
      "14\n",
      "30\n",
      "0\n",
      "500000\n"
     ]
    }
   ],
   "source": [
    "\n",
    "#example\n",
    "from datetime import time\n",
    "t = time(14, 30)\n",
    "#hour\n",
    "print(t.hour)  \n",
    "#minute\n",
    "print(t.minute)  \n",
    "#second\n",
    "print(t.second) \n",
    "#microsecond\n",
    "t_with_micro = time(14, 30, 45, 500000)\n",
    "print(t_with_micro.microsecond) "
   ]
  },
  {
   "cell_type": "markdown",
   "id": "cfae5f60-eab6-47ae-b981-4673b0c57203",
   "metadata": {},
   "source": [
    "#### Methods\n",
    "1. time()\n",
    "    * gives number of seconds that have elapsed since January 1, 1970, at 00:00:00 UTC\n"
   ]
  },
  {
   "cell_type": "code",
   "execution_count": 166,
   "id": "9f51b7cf-7d1b-4b05-88ad-db4c6a0e1950",
   "metadata": {},
   "outputs": [
    {
     "name": "stdout",
     "output_type": "stream",
     "text": [
      "1726223488.8415573\n"
     ]
    }
   ],
   "source": [
    "current_time = time.time()\n",
    "print(current_time) "
   ]
  },
  {
   "cell_type": "markdown",
   "id": "1f1526de-e63c-4bde-a558-08778fc6673f",
   "metadata": {},
   "source": [
    "2. fromisoformat(time_string)\n",
    "    * Creates a time object from a string in ISO format (HH:MM:SS)"
   ]
  },
  {
   "cell_type": "code",
   "execution_count": 145,
   "id": "0141580f-fff7-4d31-9b4e-907dc3a2a52b",
   "metadata": {},
   "outputs": [
    {
     "name": "stdout",
     "output_type": "stream",
     "text": [
      "14:30:00.999900\n"
     ]
    }
   ],
   "source": [
    "iso_time = time.fromisoformat(\"14:30:00:9999\")\n",
    "print(iso_time)  "
   ]
  },
  {
   "cell_type": "markdown",
   "id": "370e547b-0533-4425-8b2b-3e44d561d7d0",
   "metadata": {},
   "source": [
    "3. strftime(format)\n",
    "    * Formats the time as a string according to a specified format"
   ]
  },
  {
   "cell_type": "code",
   "execution_count": 170,
   "id": "3c66991c-d8e1-40bc-a98e-263493bee5fd",
   "metadata": {},
   "outputs": [
    {
     "name": "stdout",
     "output_type": "stream",
     "text": [
      "14:30:00\n"
     ]
    }
   ],
   "source": [
    "formatted_time = iso_time.strftime(\"%H:%M:%S\")\n",
    "print(formatted_time)  "
   ]
  },
  {
   "cell_type": "markdown",
   "id": "cecc8f77-3738-4aec-952b-c9565e2fff61",
   "metadata": {},
   "source": [
    "## 3. Datetime Class\n",
    "#### Attributes\n",
    "* combined attirbutes of date and time class can be used for date time class in the same way we use them for in their respective class\n",
    "  1. .year ,.month ,.day of Date class\n",
    "  2. .hour, .minute, .second, .microsecond of\n",
    "#### Methods \n",
    "1. now(tz=none)\n",
    "    *  Returns the current local date and time.\n",
    "    *  You can specify a time zone with tz."
   ]
  },
  {
   "cell_type": "code",
   "execution_count": 151,
   "id": "c0f8c65a-a633-4420-be80-2d237b5c1494",
   "metadata": {},
   "outputs": [
    {
     "name": "stdout",
     "output_type": "stream",
     "text": [
      "2024-09-13 16:00:42.031208\n",
      "Current time in New York: 2024-09-13 06:30:42.031208-04:00\n"
     ]
    }
   ],
   "source": [
    "current_datetime = datetime.now()\n",
    "print(current_datetime)  # this gives the current date and time\n",
    "# now if you wanna give timezone to now() function, you gotta import \"pytz\"  library and create a timezone object for it\n",
    "# eg :\n",
    "import pytz\n",
    "new_york_tz = pytz.timezone('America/New_York') # Now This line creates a timezone object for New York but does not give you the current date and time. \n",
    "                                                # It simply tells your program what timezone you want to work with\n",
    "\n",
    "# now to get the time in NY we well give  new_york_tz object as a attribute to now( )function\n",
    "current_time_ny = datetime.now(new_york_tz)\n",
    "print(f\"Current time in New York: {current_time_ny}\")"
   ]
  },
  {
   "cell_type": "markdown",
   "id": "94276637-fbe0-4610-8dc1-b59b76ba4845",
   "metadata": {},
   "source": [
    "2. utcnow():\n",
    "    * Returns the current UTC date and time.\n",
    "    * NOTE ->  utcnow() is deprecated and scheduled for removal in a future version"
   ]
  },
  {
   "cell_type": "code",
   "execution_count": 154,
   "id": "3243e8d5-9d9a-4bad-905f-032c6f69c5cd",
   "metadata": {},
   "outputs": [
    {
     "name": "stdout",
     "output_type": "stream",
     "text": [
      "2024-09-13 10:30:42.415487\n"
     ]
    },
    {
     "name": "stderr",
     "output_type": "stream",
     "text": [
      "C:\\Users\\Asus\\AppData\\Local\\Temp\\ipykernel_16836\\1731044361.py:1: DeprecationWarning: datetime.datetime.utcnow() is deprecated and scheduled for removal in a future version. Use timezone-aware objects to represent datetimes in UTC: datetime.datetime.now(datetime.UTC).\n",
      "  utc_datetime = datetime.utcnow()\n"
     ]
    }
   ],
   "source": [
    "utc_datetime = datetime.utcnow()\n",
    "print(utc_datetime)\n",
    "# Im'ma forget this shit asap cuz its about be removed anyways and i hate history of whatever nn(i don't even care about my gf's history (i don't have one ;) ))"
   ]
  },
  {
   "cell_type": "markdown",
   "id": "1d920f29-e80a-49a6-8851-504e3edb5bb2",
   "metadata": {},
   "source": [
    "3. fromtimestamp(timestamp)\n",
    "    * Creates a datetime object from a POSIX timestamp. which is a representation of time as the number of seconds that have elapsed since January 1, 1970, at 00:00:00 UTC"
   ]
  },
  {
   "cell_type": "code",
   "execution_count": 157,
   "id": "0d008583-74f7-4f2d-a986-e364b49bea5d",
   "metadata": {},
   "outputs": [
    {
     "name": "stdout",
     "output_type": "stream",
     "text": [
      "Seconds elspsed since 1 january 1970 XO :1726223442.7907772 \n",
      "2024-09-13 16:00:42.790777\n"
     ]
    }
   ],
   "source": [
    "import time\n",
    "timestamp=time.time() # .time() is the a attribute to time module ? library ? class?  idk what that is but it is its attribute\n",
    "# I wanna see how many seconds have elapsed since 1 january 1970 so lets print it XP\n",
    "print(f\"Seconds elspsed since 1 january 1970 XO :{timestamp} \")\n",
    "timestamp_datetime = datetime.fromtimestamp(timestamp) # this line gets us todays date based on timestamp object we created on the line before this one\n",
    "                                                       # basically its nothing much just converts seconds into years months,days,hours,minutes and seconds/ms and add them to 1 january 1970 -_- took me 10 minutes to understand this shit -_- ig im slow\n",
    "\n",
    "print(timestamp_datetime)"
   ]
  },
  {
   "cell_type": "markdown",
   "id": "18542c6d-7e84-4b66-b84f-aec4446f34ee",
   "metadata": {},
   "source": [
    "4. fromisoformat(date_string)\n",
    "    * Creates a datetime object from a string in the ISO 8601 format (YYYY-MM-DD HH:MM:SS or YYYY-MM-DDTHH:MM:SS)."
   ]
  },
  {
   "cell_type": "code",
   "execution_count": 160,
   "id": "966548fe-3eea-4dd1-8b1b-f201ad743f53",
   "metadata": {},
   "outputs": [
    {
     "name": "stdout",
     "output_type": "stream",
     "text": [
      "Datetime from ISO format: 2024-09-11 14:30:00\n"
     ]
    }
   ],
   "source": [
    "#enough timepass let's focus \n",
    "\n",
    "# Create a datetime object from an ISO formatted string\n",
    "iso_date_string = \"2024-09-11T14:30:00\" # just a lonely string TT \n",
    "dt_from_iso = datetime.fromisoformat(iso_date_string) # converting string to datetime object so it wont be lonely YAY! \n",
    "print(\"Datetime from ISO format:\", dt_from_iso)"
   ]
  },
  {
   "cell_type": "markdown",
   "id": "e0aa1d4e-0085-4287-bdbc-295aa047e1c5",
   "metadata": {},
   "source": [
    "5. strptime(date_string, format)\n",
    "    * The strptime() method parses a string representing a date and time according to a specified format and returns a corresponding datetime object. This method is useful when the date string does not conform to the ISO format.\n",
    "    * example :"
   ]
  },
  {
   "cell_type": "code",
   "execution_count": 163,
   "id": "bba1c785-70d0-4430-a7e4-2f55d0fb018d",
   "metadata": {},
   "outputs": [
    {
     "name": "stdout",
     "output_type": "stream",
     "text": [
      "Datetime from custom format: 2023-09-11 14:30:00\n"
     ]
    }
   ],
   "source": [
    "# Create a datetime object from a custom formatted string\n",
    "date_string = \"11-09-2023 14:30\"\n",
    "format_string = \"%d-%m-%Y %H:%M\"\n",
    "dt_from_str = datetime.strptime(date_string, format_string)\n",
    "\n",
    "print(\"Datetime from custom format:\", dt_from_str)"
   ]
  },
  {
   "cell_type": "markdown",
   "id": "a75b9f61-3c36-4c49-8a5e-1532cf96265f",
   "metadata": {},
   "source": [
    "5. isoformat() : can similarly used as before\n",
    "6. strftime(format) :same as before"
   ]
  },
  {
   "cell_type": "markdown",
   "id": "db35ca4c-20ba-4427-b2bb-1989837a341f",
   "metadata": {},
   "source": [
    "------------------------------------------------------------------------------------------------------------\n",
    "## 4. TimeDelta \n",
    "* The timedelta class is used to represent a duration, which is the difference between two dates or times.\n",
    "#### Attributes \n",
    "1. days :\n",
    "    * Represents the number of days in the given duration"
   ]
  },
  {
   "cell_type": "code",
   "execution_count": 189,
   "id": "6c13a8d1-d330-461a-9008-fab0f0dd8b97",
   "metadata": {},
   "outputs": [
    {
     "name": "stdout",
     "output_type": "stream",
     "text": [
      "14\n"
     ]
    }
   ],
   "source": [
    "from datetime import timedelta\n",
    "delta = timedelta(weeks=2)\n",
    "print(delta.days)  "
   ]
  },
  {
   "cell_type": "markdown",
   "id": "02cca809-e8e1-4848-b806-caec009f081f",
   "metadata": {},
   "source": [
    "2. seconds :\n",
    "    * Represents the number of seconds in the given duration.  range (0 to 86399)"
   ]
  },
  {
   "cell_type": "code",
   "execution_count": 200,
   "id": "70318291-1fd1-4611-b689-7577709367d5",
   "metadata": {},
   "outputs": [
    {
     "name": "stdout",
     "output_type": "stream",
     "text": [
      "3600\n",
      "86399\n"
     ]
    }
   ],
   "source": [
    "delta = timedelta(hours=1)\n",
    "delta1 = timedelta(hours=23,minutes=59,seconds=59)\n",
    "print(delta.seconds ) \n",
    "print(delta1.seconds ) "
   ]
  },
  {
   "cell_type": "markdown",
   "id": "379c64ba-12f5-4b09-8477-6f98fca9a00d",
   "metadata": {},
   "source": [
    "3. microseconds :\n",
    "    * Represents the number of microseconds in the given duration . range - (0 to 999999)."
   ]
  },
  {
   "cell_type": "code",
   "execution_count": 223,
   "id": "dbdaf156-d5b9-4e25-8bc2-866280578cd5",
   "metadata": {},
   "outputs": [
    {
     "name": "stdout",
     "output_type": "stream",
     "text": [
      "500\n"
     ]
    }
   ],
   "source": [
    "delta = timedelta(microseconds=500)\n",
    "print(delta.microseconds) #seems pretty useless to me but who knows where it is gonna be used"
   ]
  },
  {
   "cell_type": "markdown",
   "id": "c2d09f79-797f-44c7-bc46-6cb52eef49e9",
   "metadata": {},
   "source": [
    "4. total_seconds()\n",
    "    * Returns the total duration in seconds as a floating-point number"
   ]
  },
  {
   "cell_type": "code",
   "execution_count": 233,
   "id": "7824d47f-4508-4cb6-89ef-1b0a020acd39",
   "metadata": {},
   "outputs": [
    {
     "name": "stdout",
     "output_type": "stream",
     "text": [
      "93600.007848\n"
     ]
    }
   ],
   "source": [
    "delta = timedelta(days=1, hours=2 ,microseconds=7848)\n",
    "print(delta.total_seconds()) #"
   ]
  },
  {
   "cell_type": "markdown",
   "id": "4bbc7202-001a-47e2-b610-ad7978bb9a94",
   "metadata": {},
   "source": [
    "# END"
   ]
  },
  {
   "cell_type": "code",
   "execution_count": null,
   "id": "1e92e29b-f7fd-43a9-afe0-892cf11ebbb5",
   "metadata": {},
   "outputs": [],
   "source": []
  }
 ],
 "metadata": {
  "kernelspec": {
   "display_name": "Python 3 (ipykernel)",
   "language": "python",
   "name": "python3"
  },
  "language_info": {
   "codemirror_mode": {
    "name": "ipython",
    "version": 3
   },
   "file_extension": ".py",
   "mimetype": "text/x-python",
   "name": "python",
   "nbconvert_exporter": "python",
   "pygments_lexer": "ipython3",
   "version": "3.12.4"
  }
 },
 "nbformat": 4,
 "nbformat_minor": 5
}
